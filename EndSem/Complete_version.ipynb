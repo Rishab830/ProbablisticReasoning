{
 "cells": [
  {
   "cell_type": "markdown",
   "metadata": {},
   "source": [
    "# Markov Random Field For Image Segmentation and Denoising\n",
    "This project has two parts. In part one, we use a Markov random field Model to denoise an image. In Part two, we use a similar model for image segmentation. "
   ]
  },
  {
   "cell_type": "markdown",
   "metadata": {},
   "source": [
    "## Part 1\n",
    "In this part, we have an image. We add a gussian noise to it. Then we use markov model"
   ]
  },
  {
   "cell_type": "markdown",
   "metadata": {},
   "source": [
    "    Import Libraries"
   ]
  },
  {
   "cell_type": "code",
   "execution_count": null,
   "metadata": {},
   "outputs": [],
   "source": [
    "from PIL import Image\n",
    "import numpy as np\n",
    "import pandas as pd\n",
    "from matplotlib.pyplot import imshow\n",
    "import imageio\n",
    "import matplotlib.pyplot as plt\n",
    "import random"
   ]
  },
  {
   "cell_type": "markdown",
   "metadata": {},
   "source": [
    "### Original Image\n"
   ]
  },
  {
   "cell_type": "code",
   "execution_count": null,
   "metadata": {},
   "outputs": [],
   "source": [
    "path = 'REFUGE2/Test/refuge2-test/T0001.jpg'\n",
    "arr = imageio.imread(path, mode='L')\n",
    "print(arr.shape)\n",
    "labels = np.array(arr / 127, dtype=int)\n",
    "print (\"initial image\")\n",
    "imshow(arr, cmap='gray')"
   ]
  },
  {
   "cell_type": "code",
   "execution_count": null,
   "metadata": {},
   "outputs": [],
   "source": [
    "tmp = plt.gcf().clear()"
   ]
  },
  {
   "cell_type": "markdown",
   "metadata": {},
   "source": [
    "## Part A\n",
    "In this part we added noise (with normal distribution) to the image."
   ]
  },
  {
   "cell_type": "markdown",
   "metadata": {},
   "source": [
    "### Make Noisy Image"
   ]
  },
  {
   "cell_type": "code",
   "execution_count": null,
   "metadata": {},
   "outputs": [],
   "source": [
    "def add_noise (arr, var):\n",
    "    noise = np.random.normal(0, np.sqrt(var), arr.shape)\n",
    "    noisy_arr = arr + noise\n",
    "    return noisy_arr"
   ]
  },
  {
   "cell_type": "markdown",
   "metadata": {},
   "source": [
    "### Learn Noise Distribution \n"
   ]
  },
  {
   "cell_type": "code",
   "execution_count": null,
   "metadata": {},
   "outputs": [],
   "source": [
    "def naive_bayes_learning(arr, noisy_arr, labels):\n",
    "    class_info = []\n",
    "    number_of_pixels = arr.size\n",
    "    for cls in [0,1,2]:\n",
    "        tmp = []\n",
    "        for i in range(0, len(arr)):\n",
    "            for j in range(0, len(arr[0])):\n",
    "                print(labels[i][j].shape)\n",
    "                if (labels[i][j]==cls):\n",
    "                    tmp.append(noisy_arr[i][j])\n",
    "        tmp = np.asarray(tmp)\n",
    "        class_mean = np.mean(tmp)\n",
    "        class_var = np.var(tmp)\n",
    "        class_freq = len(tmp)\n",
    "        class_probabilty = class_freq/number_of_pixels\n",
    "        class_info.append([class_probabilty, class_mean, class_var])\n",
    "    return class_info"
   ]
  },
  {
   "cell_type": "markdown",
   "metadata": {},
   "source": [
    "    Normal PDF"
   ]
  },
  {
   "cell_type": "code",
   "execution_count": null,
   "metadata": {},
   "outputs": [],
   "source": [
    "def pdf_of_normal(x, mean, var):\n",
    "    return (1/np.sqrt(2 *  np.pi * var))*np.exp(-((x-mean)**2)/(2*var))"
   ]
  },
  {
   "cell_type": "markdown",
   "metadata": {},
   "source": [
    "### Naive Bayes Classifier\n",
    "We used naive bayes classifier for predicting the real label of each pixel"
   ]
  },
  {
   "cell_type": "code",
   "execution_count": null,
   "metadata": {},
   "outputs": [],
   "source": [
    "def naive_bayes_predict (arr, class_info, fixed_pixels_index=[], correct_arr = []):\n",
    "    predict_array = np.zeros((len(arr), len(arr[0])), dtype=float)\n",
    "    class_color = [0,127,255]\n",
    "    for i in range(0, len(arr)):\n",
    "        for j in range(0, len(arr[0])): \n",
    "            if (len(fixed_pixels_index)>0 and len(correct_arr)>0 and fixed_pixels_index[i][j]==1):\n",
    "                predict_array[i][j]=correct_arr[i][j]\n",
    "                continue\n",
    "            max_probabilty = 0\n",
    "            best_class = -1\n",
    "            val = arr[i][j]\n",
    "            for cls_index in range(len(class_info)):\n",
    "                cls_p =  class_info[cls_index][0]\n",
    "                mean =  class_info[cls_index][1]\n",
    "                var = class_info[cls_index][2]\n",
    "                pos =pdf_of_normal(val, mean, var)\n",
    "                cls_posterior = cls_p * pos\n",
    "\n",
    "                if (cls_posterior > max_probabilty):\n",
    "                    max_probabilty = cls_posterior\n",
    "                    best_class = cls_index\n",
    "            \n",
    "            predict_array[i][j] = class_color[best_class]\n",
    "            \n",
    "    return predict_array"
   ]
  },
  {
   "cell_type": "markdown",
   "metadata": {},
   "source": [
    "## Part B\n",
    "In this part, we used Naive Bayes classifier defined in part A to classify true labels for each of the image's pixels."
   ]
  },
  {
   "cell_type": "code",
   "execution_count": null,
   "metadata": {},
   "outputs": [],
   "source": [
    "variance_list = [100, 1000, 20000]\n",
    "for var in variance_list:\n",
    "    noisy_arr = add_noise(arr, var)\n",
    "    cls_info = naive_bayes_learning(arr, noisy_arr, labels)\n",
    "    prediciton_array = naive_bayes_predict(noisy_arr, cls_info)\n",
    "    print (\"Noisy Image with var\", var)\n",
    "    plt.imshow(noisy_arr, cmap='gray')\n",
    "    plt.show()\n",
    "    print (\"Naive Bayes Classifier Labels\")\n",
    "    plt.imshow(prediciton_array, cmap='gray')\n",
    "    plt.show()"
   ]
  },
  {
   "cell_type": "markdown",
   "metadata": {},
   "source": [
    "As you can see the results, this approach worked well when the noise variance is 10, but when the noise increases, this approach didn't work well."
   ]
  },
  {
   "cell_type": "markdown",
   "metadata": {},
   "source": [
    "## Part C\n",
    "\n",
    "Markov Random Field Models provide a simple and effective way to model the spatial dependencies in image pixels. <br>\n",
    "So we useed them to model the connection between two neighbour pixels. <br>\n",
    "In our problem we have to define an energy function on hidden states corresponding to true values of each pixels, then we minimize this function to obtain the best prediction. <br>\n",
    "Our energy function is defined as below: <br>\n",
    " "
   ]
  },
  {
   "cell_type": "markdown",
   "metadata": {},
   "source": [
    "$U(w)=\\sum_{s} (\\lg (\\sigma_{\\omega_{s}} \\sqrt{2 \\pi}) + \\frac{(f_s - \\mu_{\\omega_{s}})^2}{2(\\sigma_{\\omega_{s}})^2}) + \\sum_{s,r} \\beta \\delta (s,r)  $"
   ]
  },
  {
   "cell_type": "code",
   "execution_count": null,
   "metadata": {},
   "outputs": [],
   "source": [
    "def distance (x,y):\n",
    "    a = x-y\n",
    "    a = a*a\n",
    "    return np.sqrt(np.sum(a))"
   ]
  },
  {
   "cell_type": "code",
   "execution_count": null,
   "metadata": {},
   "outputs": [],
   "source": [
    "def differnce(a,b):\n",
    "    if (a==b):\n",
    "        return -1\n",
    "    else:\n",
    "        return 1"
   ]
  },
  {
   "cell_type": "code",
   "execution_count": null,
   "metadata": {},
   "outputs": [],
   "source": [
    "def initial_energy_function(initial_w, pixels, betha, cls_info, neighbors_indices):\n",
    "    w = initial_w\n",
    "    energy = 0.0\n",
    "    rows = len(w)\n",
    "    cols = len(w[0])\n",
    "    for i in range(0, len(w)):\n",
    "        for j in range(0, len(w[0])):\n",
    "            mean = cls_info[int (w[i][j])][1]\n",
    "            var =  cls_info[int (w[i][j])][2]\n",
    "            energy += np.log(np.sqrt(2*np.pi*var)) \n",
    "            energy += ((pixels[i][j]-mean)**2)/(2*var)\n",
    "            for a,b in neighbors_indices:\n",
    "                a +=i\n",
    "                b +=j\n",
    "                if 0<=a<rows and 0<=b<cols:\n",
    "                    energy += betha * differnce(w[i][j], w[a][b])\n",
    "    return energy"
   ]
  },
  {
   "cell_type": "code",
   "execution_count": null,
   "metadata": {},
   "outputs": [],
   "source": [
    "def exponential_schedule(step_number, current_t, initial_temp,  constant=0.99):\n",
    "    return current_t*constant\n",
    "def logarithmical_multiplicative_cooling_schedule(step_number, current_t, initial_temp, constant=1.0):\n",
    "    return initial_temp / (1 + constant * np.log(1+step_number))\n",
    "def linear_multiplicative_cooling_schedule(step_number, current_t, initial_temp, constant=1.0):\n",
    "    return initial_temp / (1 + constant * step_number)"
   ]
  },
  {
   "cell_type": "code",
   "execution_count": null,
   "metadata": {},
   "outputs": [],
   "source": [
    "def delta_enegry(w, index, betha, new_value, neighbors_indices, pixels, cls_info):\n",
    "    initial_energy = 0 \n",
    "    (i,j) = index\n",
    "    rows = len(w)\n",
    "    cols = len(w[0])\n",
    "    mean = cls_info[int(w[i][j])][1]\n",
    "    var =  cls_info[int(w[i][j])][2]\n",
    "    initial_energy += np.log(np.sqrt(2*np.pi*var)) \n",
    "    initial_energy += ((pixels[i][j]-mean)**2)/(2*var)\n",
    "    for a,b in neighbors_indices:\n",
    "        a +=i\n",
    "        b +=j\n",
    "        if 0<=a<rows and 0<=b<cols:\n",
    "            initial_energy += betha * differnce(w[i][j], w[a][b])\n",
    "    \n",
    "    new_energy = 0\n",
    "    mean = cls_info[new_value][1]\n",
    "    var =  cls_info[new_value][2]\n",
    "    new_energy += np.log(np.sqrt(2*np.pi*var)) \n",
    "    new_energy += ((pixels[i][j]-mean)**2)/(2*var)\n",
    "    # print(\"/////// \\n first enegry\", new_energy)\n",
    "\n",
    "    for a,b in neighbors_indices:\n",
    "        a +=i\n",
    "        b +=j\n",
    "        if 0<=a<rows and 0<=b<cols:\n",
    "            new_energy += betha * differnce(new_value, w[a][b])\n",
    "\n",
    "    # print (\"END energy\", new_energy)\n",
    "\n",
    "    return new_energy - initial_energy"
   ]
  },
  {
   "cell_type": "code",
   "execution_count": null,
   "metadata": {},
   "outputs": [],
   "source": [
    "def simulated_annealing(init_w, class_labels, temprature_function,\n",
    "                        pixels, betha, cls_info, neighbors_indices, max_iteration=10000,\n",
    "                        initial_temp = 1000, known_index=[], correct_arr = [], temprature_function_constant=None ):\n",
    "    partial_prediction=False\n",
    "    if (len(known_index)>0 and len(correct_arr)>0):\n",
    "        partial_prediction=True\n",
    "\n",
    "    w = np.array(init_w)\n",
    "    changed_array = np.zeros((len(w), len(w[0])))\n",
    "    iteration =0\n",
    "    x = len(w)\n",
    "    y = len(w[0])\n",
    "    current_energy = initial_energy_function(w, pixels, betha, cls_info, neighbors_indices)\n",
    "    current_tmp = initial_temp\n",
    "    while (iteration<max_iteration):\n",
    "        if (partial_prediction):\n",
    "            is_found=False\n",
    "            while (is_found==False):\n",
    "                i = random.randint(0, x-1)\n",
    "                j = random.randint(0, y-1)\n",
    "                if (known_index[i][j]==0):\n",
    "                    is_found=True\n",
    "        else:\n",
    "            i = random.randint(0, x-1)\n",
    "            j = random.randint(0, y-1)\n",
    "\n",
    "        l = list(class_labels)\n",
    "        l.remove(w[i][j])\n",
    "        r = random.randint(0, len(l)-1)\n",
    "        new_value = l[r]\n",
    "        delta = delta_enegry(w, (i,j), betha, new_value, neighbors_indices, pixels, cls_info)\n",
    "\n",
    "        r = random.uniform(0, 1)\n",
    "\n",
    "        if (delta<=0):\n",
    "            w[i][j]=new_value\n",
    "            current_energy+=delta\n",
    "            changed_array[i][j]+=1\n",
    "            # print (\"CHANGED better\")\n",
    "        else:\n",
    "            try:\n",
    "                if (-delta / current_tmp < -600):\n",
    "                    k=0\n",
    "                else:\n",
    "                    k = np.exp(-delta / current_tmp)\n",
    "            except:\n",
    "                k=0\n",
    "\n",
    "            if r < k:\n",
    "                # print(\"CHANGED worse\")\n",
    "                w[i][j] = new_value\n",
    "                current_energy += delta\n",
    "                changed_array[i][j] += 1\n",
    "        if (temprature_function_constant!=None):\n",
    "            current_tmp = temprature_function(iteration, current_tmp, initial_temp, constant =temprature_function_constant)\n",
    "        else:\n",
    "            current_tmp = temprature_function(iteration, current_tmp, initial_temp)\n",
    "        iteration+=1\n",
    "    return w, changed_array"
   ]
  },
  {
   "cell_type": "code",
   "execution_count": null,
   "metadata": {},
   "outputs": [],
   "source": [
    "def convert_to_class_labels(arr, inverse_array={0:0, 127:1, 255:2}):\n",
    "    for i in range(0, len(arr)):\n",
    "        for j in range(0, len(arr[0])):\n",
    "            arr[i][j] = inverse_array[int(arr[i][j])]"
   ]
  },
  {
   "cell_type": "code",
   "execution_count": null,
   "metadata": {},
   "outputs": [],
   "source": [
    "def get_accuracy(arr, labels):\n",
    "    correct = 0\n",
    "    for i in range(0, len(arr)):\n",
    "        for j in range(0, len(arr[0])):\n",
    "            if (labels[i][j]==int(arr[i][j]/127)):\n",
    "                correct+=1\n",
    "    return correct/(len(arr[0])*len(arr))"
   ]
  },
  {
   "cell_type": "code",
   "execution_count": null,
   "metadata": {},
   "outputs": [],
   "source": [
    "# plt.close('all')\n",
    "def a_complete_set_for_part_1 (arr, max_iter=1000000,var = 10000,\n",
    "                               betha = 100,\n",
    "                               neighbor_indices = [[0,1],[0,-1],[1,0],[-1,0]],\n",
    "                               class_labels = [0,1,2], \n",
    "                               class_color = [0,127,255], \n",
    "                               schedule= exponential_schedule,\n",
    "                               temprature_function_constant=None):\n",
    "\n",
    "    fig, (ax1, ax2, ax3, ax4) = plt.subplots(1,4)\n",
    "#     fig.suptitle('Comparision', fontsize=20)\n",
    "    \n",
    "    noisy_arr = add_noise(arr, var)\n",
    "    ax1.set_title('Noisy image \\n accuracy '+str(get_accuracy(noisy_arr, labels)))\n",
    "\n",
    "    ax1.imshow(noisy_arr, cmap='gray')\n",
    "\n",
    "\n",
    "    rows = len(noisy_arr)\n",
    "    cols = len(noisy_arr[0])\n",
    "\n",
    "    cls_info = naive_bayes_learning(arr, noisy_arr, labels)\n",
    "\n",
    "    initial_arr = naive_bayes_predict(noisy_arr, cls_info)\n",
    "    ax2.set_title('Naive Bayes image \\n accuracy '+str(get_accuracy(initial_arr, labels)))\n",
    "    ax2.imshow(initial_arr, cmap='gray')\n",
    "\n",
    "    convert_to_class_labels(initial_arr)\n",
    "    \n",
    "    w, test_array = simulated_annealing(initial_arr, class_labels, schedule,\n",
    "                                        noisy_arr, betha, cls_info, neighbor_indices, max_iteration=max_iter)\n",
    "\n",
    "    \n",
    "    for i in range (0, len(w)):\n",
    "        for j in range(0, len(w[0])):\n",
    "            w[i][j] = class_color[int (w[i][j])]\n",
    "\n",
    "    ax3.set_title('CRF image \\n accuracy '+str(get_accuracy(w, labels)))\n",
    "    ax3.imshow(w, cmap='gray')\n",
    "    plt.rcParams[\"figure.figsize\"] = (20,3)\n",
    "\n",
    "\n",
    "    ax4.set_title('differ image')\n",
    "\n",
    "    ax4.imshow(test_array, cmap='gray')\n",
    "\n",
    "    plt.show()"
   ]
  },
  {
   "cell_type": "markdown",
   "metadata": {},
   "source": [
    "## Part D\n",
    "We used naive bayes results of __Part B__ as the initial state for the true pixels values. Then we used simulated annealing optimization method. We tested different hyper pararmeters to compare the performance of the MRF models with  naive bayes model. <br>"
   ]
  },
  {
   "cell_type": "code",
   "execution_count": null,
   "metadata": {},
   "outputs": [],
   "source": [
    "plt.figure(figsize=(10, 12), dpi=80, facecolor='w', edgecolor='k')"
   ]
  },
  {
   "cell_type": "code",
   "execution_count": null,
   "metadata": {},
   "outputs": [],
   "source": [
    "a_complete_set_for_part_1(arr, max_iter=1e4, var=1e2, betha=1e2)"
   ]
  },
  {
   "cell_type": "code",
   "execution_count": null,
   "metadata": {},
   "outputs": [],
   "source": [
    "a_complete_set_for_part_1(arr, max_iter=1e6, var=1e2, betha=1e2)"
   ]
  },
  {
   "cell_type": "code",
   "execution_count": null,
   "metadata": {},
   "outputs": [],
   "source": [
    "a_complete_set_for_part_1(arr, max_iter=1e6, var=1e2, betha=1e4)"
   ]
  },
  {
   "cell_type": "code",
   "execution_count": null,
   "metadata": {},
   "outputs": [],
   "source": [
    "a_complete_set_for_part_1(arr, max_iter=1e7, var=1e2, betha=1e4)"
   ]
  },
  {
   "cell_type": "markdown",
   "metadata": {},
   "source": [
    "## Part E\n",
    "We compared two different modes. First mode uses only four neighbors pixels. Second mode uses eight neighbors pixels in the model. The result is as below."
   ]
  },
  {
   "cell_type": "markdown",
   "metadata": {},
   "source": [
    "### Model with four neighbors"
   ]
  },
  {
   "cell_type": "code",
   "execution_count": null,
   "metadata": {},
   "outputs": [],
   "source": [
    "plt.figure(figsize=(10, 12), dpi=80, facecolor='w', edgecolor='k')\n",
    "a_complete_set_for_part_1(arr, max_iter=1e6, var=1e2, betha=1e4)"
   ]
  },
  {
   "cell_type": "markdown",
   "metadata": {},
   "source": [
    "### Model with eight neighbors"
   ]
  },
  {
   "cell_type": "code",
   "execution_count": null,
   "metadata": {},
   "outputs": [],
   "source": [
    "eight_neighbors_indices =  [[0,1],[0,-1],[1,0],[-1,0],[1,1],[1,-1],[-1,1],[-1,-1]]\n",
    "a_complete_set_for_part_1(arr, max_iter=1e6, var=1e2, betha=1e4, neighbor_indices=eight_neighbors_indices)"
   ]
  },
  {
   "cell_type": "markdown",
   "metadata": {},
   "source": [
    "### Comparision\n",
    "When we used eight neighbours, the smoothness of result increased. The weakness of eight neighbors parameter is that the model can't find a good boundary for the circle in the center. Because circles border are different from rectangles and so the number of same color in the border of circle is less than rectangles border. And the model connot predict well in this situation. If we use lower betha, then the result for the circle is going to be better."
   ]
  },
  {
   "cell_type": "code",
   "execution_count": null,
   "metadata": {},
   "outputs": [],
   "source": [
    "a_complete_set_for_part_1(arr, max_iter=1e6, var=1e2, betha=1e-1, neighbor_indices=eight_neighbors_indices)"
   ]
  },
  {
   "cell_type": "markdown",
   "metadata": {},
   "source": [
    "## Part F\n",
    "In this part, we tested different  $\\beta$ as the hyperparameter. And the result is as follow."
   ]
  },
  {
   "cell_type": "code",
   "execution_count": null,
   "metadata": {},
   "outputs": [],
   "source": [
    "bta = 1e-4\n",
    "print (\"Betha\", bta)\n",
    "a_complete_set_for_part_1(arr, max_iter=1e6, var=1e2, betha=bta)"
   ]
  },
  {
   "cell_type": "code",
   "execution_count": null,
   "metadata": {},
   "outputs": [],
   "source": [
    "bta = 1e-3\n",
    "print (\"Betha\", bta)\n",
    "a_complete_set_for_part_1(arr, max_iter=1e6, var=1e2, betha=bta)"
   ]
  },
  {
   "cell_type": "code",
   "execution_count": null,
   "metadata": {},
   "outputs": [],
   "source": [
    "bta = 1e-2\n",
    "print (\"Betha\", bta)\n",
    "a_complete_set_for_part_1(arr, max_iter=1e6, var=1e2, betha=bta)"
   ]
  },
  {
   "cell_type": "code",
   "execution_count": null,
   "metadata": {},
   "outputs": [],
   "source": [
    "bta = 1e-1\n",
    "print (\"Betha\", bta)\n",
    "a_complete_set_for_part_1(arr, max_iter=1e6, var=1e2, betha=bta)"
   ]
  },
  {
   "cell_type": "code",
   "execution_count": null,
   "metadata": {},
   "outputs": [],
   "source": [
    "bta = 1e0\n",
    "print (\"Betha\", bta)\n",
    "a_complete_set_for_part_1(arr, max_iter=1e6, var=1e2, betha=bta)"
   ]
  },
  {
   "cell_type": "code",
   "execution_count": null,
   "metadata": {},
   "outputs": [],
   "source": [
    "bta = 1e1\n",
    "print (\"Betha\", bta)\n",
    "a_complete_set_for_part_1(arr, max_iter=1e6, var=1e2, betha=bta)"
   ]
  },
  {
   "cell_type": "code",
   "execution_count": null,
   "metadata": {},
   "outputs": [],
   "source": [
    "bta = 1e2\n",
    "print (\"Betha\", bta)\n",
    "a_complete_set_for_part_1(arr, max_iter=1e6, var=1e2, betha=bta)"
   ]
  },
  {
   "cell_type": "code",
   "execution_count": null,
   "metadata": {},
   "outputs": [],
   "source": [
    "bta = 1e4\n",
    "print (\"Betha\", bta)\n",
    "a_complete_set_for_part_1(arr, max_iter=1e6, var=1e2, betha=bta)"
   ]
  },
  {
   "cell_type": "code",
   "execution_count": null,
   "metadata": {},
   "outputs": [],
   "source": [
    "xs = [-4,-3,-2,-1,0,1,2,4]\n",
    "accs = [0.623, 0.627, .633, .729, .8587, .8581, .8552, .8551]\n",
    "plt.plot(xs, accs)\n",
    "plt.show()"
   ]
  },
  {
   "cell_type": "markdown",
   "metadata": {},
   "source": [
    "According to the above graph, the best $\\beta$ is 1e0=1."
   ]
  },
  {
   "cell_type": "markdown",
   "metadata": {},
   "source": [
    "## Part G\n",
    "In this part, we have some part of the image and we want to predict the remaining part. "
   ]
  },
  {
   "cell_type": "code",
   "execution_count": null,
   "metadata": {},
   "outputs": [],
   "source": [
    "def a_complete_set_for_part_1_some_pixels_known (arr,known_index, max_iter=1000000,var = 10000,\n",
    "                               betha = 100,\n",
    "                               neighbor_indices = [[0,1],[0,-1],[1,0],[-1,0]],\n",
    "                               class_labels = [0,1,2],\n",
    "                               class_color = [0,127,255],\n",
    "                               schedule= exponential_schedule\n",
    "                            ,temprature_function_constant=None):\n",
    "\n",
    "\n",
    "    fig, (ax1, ax2, ax3, ax4) = plt.subplots(1,4)\n",
    "#     fig.suptitle('Comparision', fontsize=20)\n",
    "\n",
    "    noisy_arr = add_noise(arr, var)\n",
    "    for i in range(0, len(arr)):\n",
    "        for j in range(0, len(arr[0])):\n",
    "            if (known_index[i][j]==1):\n",
    "                noisy_arr[i][j]=arr[i][j]\n",
    "\n",
    "    ax1.set_title('Noisy image \\n accuracy '+str(get_accuracy(noisy_arr, labels)))\n",
    "\n",
    "    ax1.imshow(noisy_arr, cmap='gray')\n",
    "\n",
    "\n",
    "    rows = len(noisy_arr)\n",
    "    cols = len(noisy_arr[0])\n",
    "\n",
    "    cls_info = naive_bayes_learning(arr, noisy_arr, labels)\n",
    "\n",
    "    initial_arr = naive_bayes_predict(noisy_arr, cls_info, fixed_pixels_index=known_index, correct_arr = arr)\n",
    "    ax2.set_title('Naive Bayes image \\n accuracy '+str(get_accuracy(initial_arr, labels)))\n",
    "    ax2.imshow(initial_arr, cmap='gray')\n",
    "\n",
    "    convert_to_class_labels(initial_arr)\n",
    "\n",
    "    w, test_array = simulated_annealing(initial_arr, class_labels, schedule,\n",
    "                                        noisy_arr, betha, cls_info, neighbor_indices,\n",
    "                                        max_iteration=max_iter, known_index=known_index, correct_arr=arr)\n",
    "\n",
    "\n",
    "    for i in range (0, len(w)):\n",
    "        for j in range(0, len(w[0])):\n",
    "            w[i][j] = class_color[int (w[i][j])]\n",
    "\n",
    "    ax3.set_title('CRF image \\n accuracy '+str(get_accuracy(w, labels)))\n",
    "    ax3.imshow(w, cmap='gray')\n",
    "    plt.rcParams[\"figure.figsize\"] = (20,3)\n",
    "\n",
    "\n",
    "    ax4.set_title('differ image')\n",
    "\n",
    "    ax4.imshow(test_array, cmap='gray')\n",
    "\n",
    "    plt.show()"
   ]
  },
  {
   "cell_type": "code",
   "execution_count": null,
   "metadata": {},
   "outputs": [],
   "source": [
    "plt.figure(figsize=(10, 12), dpi=80, facecolor='w', edgecolor='k')\n",
    "known_index = np.zeros((len(arr), len(arr[0])))\n",
    "for i in range (0, len(arr)):\n",
    "    for j in range(0, len(arr[0])):\n",
    "        if (i <= j ):\n",
    "            known_index[i][j]=1\n",
    "bta = 1e4\n",
    "a_complete_set_for_part_1_some_pixels_known(arr,  known_index, max_iter=1e6, var=1e2, betha=bta)"
   ]
  },
  {
   "cell_type": "markdown",
   "metadata": {},
   "source": [
    "## Part H\n",
    "In this part, we compared different schedules in simulated annealing optimizer.<br>\n",
    "We tested different scheduling Strategy. And the result is as follow."
   ]
  },
  {
   "cell_type": "markdown",
   "metadata": {},
   "source": [
    "#### Exponential Schedule"
   ]
  },
  {
   "cell_type": "code",
   "execution_count": null,
   "metadata": {},
   "outputs": [],
   "source": [
    "a_complete_set_for_part_1(arr, max_iter=1e6, var=1e2, betha=bta,\n",
    "                          schedule=exponential_schedule, temprature_function_constant=0.8)"
   ]
  },
  {
   "cell_type": "code",
   "execution_count": null,
   "metadata": {},
   "outputs": [],
   "source": [
    "a_complete_set_for_part_1(arr, max_iter=1e6, var=1e2, betha=bta,\n",
    "                          schedule=exponential_schedule, temprature_function_constant=0.9)"
   ]
  },
  {
   "cell_type": "markdown",
   "metadata": {},
   "source": [
    "#### Logarithmical Multiplicative Cooling Schedule"
   ]
  },
  {
   "cell_type": "code",
   "execution_count": null,
   "metadata": {},
   "outputs": [],
   "source": [
    "a_complete_set_for_part_1(arr, max_iter=1e6, var=1e2, betha=bta,\n",
    "                          schedule=logarithmical_multiplicative_cooling_schedule, temprature_function_constant=1.0)"
   ]
  },
  {
   "cell_type": "markdown",
   "metadata": {},
   "source": [
    "#### Linear Multiplicative Cooling Schedule"
   ]
  },
  {
   "cell_type": "code",
   "execution_count": null,
   "metadata": {},
   "outputs": [],
   "source": [
    "a_complete_set_for_part_1(arr, max_iter=1e6, var=1e2, betha=bta,\n",
    "                          schedule=linear_multiplicative_cooling_schedule, temprature_function_constant=1.0)"
   ]
  },
  {
   "cell_type": "code",
   "execution_count": null,
   "metadata": {},
   "outputs": [],
   "source": [
    "a_complete_set_for_part_1(arr, max_iter=1e6, var=1e2, betha=bta,\n",
    "                          schedule=linear_multiplicative_cooling_schedule, temprature_function_constant=0.5)"
   ]
  },
  {
   "cell_type": "code",
   "execution_count": null,
   "metadata": {},
   "outputs": [],
   "source": [
    "a_complete_set_for_part_1(arr, max_iter=1e6, var=1e2, betha=bta,\n",
    "                          schedule=linear_multiplicative_cooling_schedule, temprature_function_constant=1.5)"
   ]
  },
  {
   "cell_type": "markdown",
   "metadata": {},
   "source": [
    "## Part 2\n",
    "In this part, we used Markov Random Field for image segmentation.\n",
    "<br>\n",
    "We used different image color space:\n",
    "- Gray Scale\n",
    "- HSV\n",
    "- RGB Format"
   ]
  },
  {
   "cell_type": "code",
   "execution_count": 2,
   "metadata": {},
   "outputs": [],
   "source": [
    "from PIL import Image\n",
    "import numpy as np\n",
    "from scipy import misc\n",
    "from matplotlib.pyplot import imshow\n",
    "import matplotlib.pyplot as plt\n",
    "import random\n",
    "import imageio"
   ]
  },
  {
   "cell_type": "markdown",
   "metadata": {},
   "source": [
    "### Orginal Image"
   ]
  },
  {
   "cell_type": "code",
   "execution_count": 4,
   "metadata": {},
   "outputs": [
    {
     "name": "stdout",
     "output_type": "stream",
     "text": [
      "initial image\n"
     ]
    },
    {
     "data": {
      "text/plain": [
       "<matplotlib.image.AxesImage at 0x186e37d97f0>"
      ]
     },
     "execution_count": 4,
     "metadata": {},
     "output_type": "execute_result"
    },
    {
     "data": {
      "image/png": "[encoded data removed]",
      "text/plain": [
       "<Figure size 640x480 with 1 Axes>"
      ]
     },
     "metadata": {},
     "output_type": "display_data"
    }
   ],
   "source": [
    "path = \"REFUGE2/Test/refuge2-test/T0001.jpg\"\n",
    "arr = imageio.imread(path, mode='L')\n",
    "print (\"initial image\")\n",
    "imshow(arr, cmap='gray')"
   ]
  },
  {
   "cell_type": "code",
   "execution_count": 5,
   "metadata": {},
   "outputs": [
    {
     "data": {
      "text/plain": [
       "<Figure size 640x480 with 0 Axes>"
      ]
     },
     "metadata": {},
     "output_type": "display_data"
    }
   ],
   "source": [
    "tmp = plt.gcf().clear()"
   ]
  },
  {
   "cell_type": "markdown",
   "metadata": {},
   "source": [
    "\n",
    "### Gray Scale"
   ]
  },
  {
   "cell_type": "markdown",
   "metadata": {},
   "source": [
    "    Getting labels from training data"
   ]
  },
  {
   "cell_type": "code",
   "execution_count": null,
   "metadata": {},
   "outputs": [],
   "source": [
    "initial_probability = {\"Sky.jpg\": 0.30,\"Road.jpg\": 0.20, \"Grass.jpg\":0.50}\n",
    "number_of_pixels = arr.size\n",
    "class_info = []\n",
    "paths= [\"Sky.jpg\", \"Road.jpg\", \"Grass.jpg\"]\n",
    "for path in paths:\n",
    "    tmp_arr = misc.imread(path, flatten=True)\n",
    "    class_mean = np.mean(tmp_arr)\n",
    "    class_var = np.var(tmp_arr)\n",
    "    class_freq = len(tmp_arr)\n",
    "    class_probabilty = class_freq/number_of_pixels\n",
    "    class_info.append([initial_probability[path], class_mean, class_var])\n",
    "\n",
    "print (\"class_info\")\n",
    "print (class_info)"
   ]
  },
  {
   "cell_type": "markdown",
   "metadata": {},
   "source": [
    "    Normal PDF"
   ]
  },
  {
   "cell_type": "code",
   "execution_count": null,
   "metadata": {},
   "outputs": [],
   "source": [
    "def pdf_of_normal(x, mean, var):\n",
    "    return (1/np.sqrt(2 *  np.pi * var))*np.exp(-((x-mean)**2)/(2*var))"
   ]
  },
  {
   "cell_type": "markdown",
   "metadata": {},
   "source": [
    "### Naive Bayes Classifier\n",
    "We used naive bayes classifier for predicting the real label of each pixel"
   ]
  },
  {
   "cell_type": "code",
   "execution_count": null,
   "metadata": {},
   "outputs": [],
   "source": [
    "def naive_bayes_predict (arr, class_info, fixed_pixels_index=[], correct_arr = []):\n",
    "    predict_array = np.zeros((len(arr), len(arr[0])), dtype=float)\n",
    "    class_color = [0,127,255]\n",
    "    for i in range(0, len(arr)):\n",
    "        for j in range(0, len(arr[0])): \n",
    "            if (len(fixed_pixels_index)>0 and len(correct_arr)>0 and fixed_pixels_index[i][j]==1):\n",
    "                predict_array[i][j]=correct_arr[i][j]\n",
    "                continue\n",
    "            max_probabilty = 0\n",
    "            best_class = -1\n",
    "            val = arr[i][j]\n",
    "            for cls_index in range(len(class_info)):\n",
    "                cls_p =  class_info[cls_index][0]\n",
    "                mean =  class_info[cls_index][1]\n",
    "                var = class_info[cls_index][2]\n",
    "                pos =pdf_of_normal(val, mean, var)\n",
    "                cls_posterior = cls_p * pos\n",
    "\n",
    "                if (cls_posterior > max_probabilty):\n",
    "                    max_probabilty = cls_posterior\n",
    "                    best_class = cls_index\n",
    "            \n",
    "            predict_array[i][j] = class_color[best_class]\n",
    "            \n",
    "    return predict_array"
   ]
  },
  {
   "cell_type": "code",
   "execution_count": null,
   "metadata": {},
   "outputs": [],
   "source": [
    "def distance (x,y):\n",
    "    a = x-y\n",
    "    a = a*a\n",
    "    return np.sqrt(np.sum(a))"
   ]
  },
  {
   "cell_type": "code",
   "execution_count": null,
   "metadata": {},
   "outputs": [],
   "source": [
    "def differnce(a,b):\n",
    "    if (a==b):\n",
    "        return -1\n",
    "    else:\n",
    "        return 1"
   ]
  },
  {
   "cell_type": "code",
   "execution_count": null,
   "metadata": {},
   "outputs": [],
   "source": [
    "def initial_energy_function(initial_w, pixels, betha, cls_info, neighbors_indices):\n",
    "    w = initial_w\n",
    "    energy = 0.0\n",
    "    rows = len(w)\n",
    "    cols = len(w[0])\n",
    "    for i in range(0, len(w)):\n",
    "        for j in range(0, len(w[0])):\n",
    "            mean = cls_info[int (w[i][j])][1]\n",
    "            var =  cls_info[int (w[i][j])][2]\n",
    "            energy += np.log(np.sqrt(2*np.pi*var)) \n",
    "            energy += ((pixels[i][j]-mean)**2)/(2*var)\n",
    "            for a,b in neighbors_indices:\n",
    "                a +=i\n",
    "                b +=j\n",
    "                if 0<=a<rows and 0<=b<cols:\n",
    "                    energy += betha * differnce(w[i][j], w[a][b])\n",
    "    return energy"
   ]
  },
  {
   "cell_type": "code",
   "execution_count": null,
   "metadata": {},
   "outputs": [],
   "source": [
    "def exponential_schedule(step_number, current_t, initial_temp,  constant=0.99):\n",
    "    return current_t*constant\n",
    "def logarithmical_multiplicative_cooling_schedule(step_number, current_t, initial_temp, constant=1.0):\n",
    "    return initial_temp / (1 + constant * np.log(1+step_number))\n",
    "def linear_multiplicative_cooling_schedule(step_number, current_t, initial_temp, constant=1.0):\n",
    "    return initial_temp / (1 + constant * step_number)"
   ]
  },
  {
   "cell_type": "code",
   "execution_count": null,
   "metadata": {},
   "outputs": [],
   "source": [
    "def delta_enegry(w, index, betha, new_value, neighbors_indices, pixels, cls_info):\n",
    "    initial_energy = 0 \n",
    "    (i,j) = index\n",
    "    rows = len(w)\n",
    "    cols = len(w[0])\n",
    "    mean = cls_info[int(w[i][j])][1]\n",
    "    var =  cls_info[int(w[i][j])][2]\n",
    "    initial_energy += np.log(np.sqrt(2*np.pi*var)) \n",
    "    initial_energy += ((pixels[i][j]-mean)**2)/(2*var)\n",
    "    for a,b in neighbors_indices:\n",
    "        a +=i\n",
    "        b +=j\n",
    "        if 0<=a<rows and 0<=b<cols:\n",
    "            initial_energy += betha * differnce(w[i][j], w[a][b])\n",
    "    \n",
    "    new_energy = 0\n",
    "    mean = cls_info[new_value][1]\n",
    "    var =  cls_info[new_value][2]\n",
    "    new_energy += np.log(np.sqrt(2*np.pi*var)) \n",
    "    new_energy += ((pixels[i][j]-mean)**2)/(2*var)\n",
    "    # print(\"/////// \\n first enegry\", new_energy)\n",
    "\n",
    "    for a,b in neighbors_indices:\n",
    "        a +=i\n",
    "        b +=j\n",
    "        if 0<=a<rows and 0<=b<cols:\n",
    "            new_energy += betha * differnce(new_value, w[a][b])\n",
    "\n",
    "    # print (\"END energy\", new_energy)\n",
    "\n",
    "    return new_energy - initial_energy"
   ]
  },
  {
   "cell_type": "code",
   "execution_count": null,
   "metadata": {},
   "outputs": [],
   "source": [
    "def simulated_annealing(init_w, class_labels, temprature_function,\n",
    "                        pixels, betha, cls_info, neighbors_indices, max_iteration=10000,\n",
    "                        initial_temp = 1000, known_index=[], correct_arr = [], temprature_function_constant=None ):\n",
    "    partial_prediction=False\n",
    "    if (len(known_index)>0 and len(correct_arr)>0):\n",
    "        partial_prediction=True\n",
    "\n",
    "    w = np.array(init_w)\n",
    "    changed_array = np.zeros((len(w), len(w[0])))\n",
    "    iteration =0\n",
    "    x = len(w)\n",
    "    y = len(w[0])\n",
    "    current_energy = initial_energy_function(w, pixels, betha, cls_info, neighbors_indices)\n",
    "    current_tmp = initial_temp\n",
    "    while (iteration<max_iteration):\n",
    "        if (partial_prediction):\n",
    "            is_found=False\n",
    "            while (is_found==False):\n",
    "                i = random.randint(0, x-1)\n",
    "                j = random.randint(0, y-1)\n",
    "                if (known_index[i][j]==0):\n",
    "                    is_found=True\n",
    "        else:\n",
    "            i = random.randint(0, x-1)\n",
    "            j = random.randint(0, y-1)\n",
    "\n",
    "        l = list(class_labels)\n",
    "        l.remove(w[i][j])\n",
    "        r = random.randint(0, len(l)-1)\n",
    "        new_value = l[r]\n",
    "        delta = delta_enegry(w, (i,j), betha, new_value, neighbors_indices, pixels, cls_info)\n",
    "\n",
    "        r = random.uniform(0, 1)\n",
    "\n",
    "        if (delta<=0):\n",
    "            w[i][j]=new_value\n",
    "            current_energy+=delta\n",
    "            changed_array[i][j]+=1\n",
    "            # print (\"CHANGED better\")\n",
    "        else:\n",
    "            try:\n",
    "                if (-delta / current_tmp < -600):\n",
    "                    k=0\n",
    "                else:\n",
    "                    k = np.exp(-delta / current_tmp)\n",
    "            except:\n",
    "                k=0\n",
    "\n",
    "            if r < k:\n",
    "                # print(\"CHANGED worse\")\n",
    "                w[i][j] = new_value\n",
    "                current_energy += delta\n",
    "                changed_array[i][j] += 1\n",
    "        if (temprature_function_constant!=None):\n",
    "            current_tmp = temprature_function(iteration, current_tmp, initial_temp, constant =temprature_function_constant)\n",
    "        else:\n",
    "            current_tmp = temprature_function(iteration, current_tmp, initial_temp)\n",
    "        iteration+=1\n",
    "    return w, changed_array"
   ]
  },
  {
   "cell_type": "code",
   "execution_count": null,
   "metadata": {},
   "outputs": [],
   "source": [
    "def convert_to_class_labels(arr, inverse_array={0:0, 127:1, 255:2}):\n",
    "    for i in range(0, len(arr)):\n",
    "        for j in range(0, len(arr[0])):\n",
    "            arr[i][j] = inverse_array[int(arr[i][j])]"
   ]
  },
  {
   "cell_type": "code",
   "execution_count": null,
   "metadata": {},
   "outputs": [],
   "source": [
    "def get_accuracy(arr, labels):\n",
    "    correct = 0\n",
    "    for i in range(0, len(arr)):\n",
    "        for j in range(0, len(arr[0])):\n",
    "            if (labels[i][j]==int(arr[i][j]/127)):\n",
    "                correct+=1\n",
    "    return correct/(len(arr[0])*len(arr))"
   ]
  },
  {
   "cell_type": "code",
   "execution_count": null,
   "metadata": {},
   "outputs": [],
   "source": [
    "# plt.close('all')\n",
    "def a_complete_set_for_part_2 (arr, class_info, max_iter=1000000,var = 10000,\n",
    "                               betha = 100,\n",
    "                               neighbor_indices = [[0,1],[0,-1],[1,0],[-1,0]],\n",
    "                               class_labels = [0,1,2], \n",
    "                               class_color = [0,127,255], \n",
    "                               schedule= exponential_schedule,\n",
    "                               temprature_function_constant=None):\n",
    "\n",
    "    fig, (ax1, ax2, ax3, ax4) = plt.subplots(1,4)\n",
    "#     fig.suptitle('Comparision', fontsize=20)\n",
    "    \n",
    "\n",
    "    ax1.set_title(\"initial image\")\n",
    "\n",
    "    ax1.imshow(arr, cmap='gray')\n",
    "\n",
    "\n",
    "    rows = len(arr)\n",
    "    cols = len(arr[0])\n",
    "\n",
    "#     cls_info = naive_bayes_learning(arr, noisy_arr, labels)\n",
    "    cls_info = class_info\n",
    "    initial_arr = naive_bayes_predict(arr, cls_info)\n",
    "    ax2.set_title('Naive Bayes image')\n",
    "    ax2.imshow(initial_arr, cmap='gray')\n",
    "\n",
    "    convert_to_class_labels(initial_arr)\n",
    "    \n",
    "    w, test_array = simulated_annealing(initial_arr, class_labels, schedule,\n",
    "                                        arr, betha, cls_info, neighbor_indices, max_iteration=max_iter)\n",
    "\n",
    "    \n",
    "    for i in range (0, len(w)):\n",
    "        for j in range(0, len(w[0])):\n",
    "            w[i][j] = class_color[int (w[i][j])]\n",
    "\n",
    "    ax3.set_title('CRF image')\n",
    "    ax3.imshow(w, cmap='gray')\n",
    "    plt.rcParams[\"figure.figsize\"] = (20,3)\n",
    "    ax4.set_title('differ image')\n",
    "\n",
    "    ax4.imshow(test_array, cmap='gray')\n",
    "\n",
    "    \n",
    "    plt.show()"
   ]
  },
  {
   "cell_type": "code",
   "execution_count": null,
   "metadata": {},
   "outputs": [],
   "source": [
    "plt.figure(figsize=(16, 18), dpi=80, facecolor='w', edgecolor='k')"
   ]
  },
  {
   "cell_type": "code",
   "execution_count": null,
   "metadata": {},
   "outputs": [],
   "source": [
    "plt.figure(figsize=(16, 18), dpi=80, facecolor='w', edgecolor='k')\n",
    "a_complete_set_for_part_2(arr,class_info, max_iter=1e4, betha=1e4)"
   ]
  },
  {
   "cell_type": "code",
   "execution_count": null,
   "metadata": {},
   "outputs": [],
   "source": [
    "a_complete_set_for_part_2(arr,class_info, max_iter=1e4, betha=1e6)"
   ]
  },
  {
   "cell_type": "code",
   "execution_count": null,
   "metadata": {},
   "outputs": [],
   "source": [
    "a_complete_set_for_part_2(arr,class_info, max_iter=1e6, betha=1e6)"
   ]
  },
  {
   "cell_type": "code",
   "execution_count": null,
   "metadata": {},
   "outputs": [],
   "source": [
    "a_complete_set_for_part_2(arr,class_info, max_iter=1e7, betha=1e6)"
   ]
  },
  {
   "cell_type": "markdown",
   "metadata": {},
   "source": [
    "### HSV color space"
   ]
  },
  {
   "cell_type": "markdown",
   "metadata": {},
   "source": [
    "Now we want to use HSV color space for training our data."
   ]
  },
  {
   "cell_type": "code",
   "execution_count": null,
   "metadata": {},
   "outputs": [],
   "source": [
    "import matplotlib\n",
    "path = \"test2-mini.jpg\"\n",
    "img = Image.open(path)\n",
    "hsv_arr = matplotlib.colors.rgb_to_hsv(img)\n",
    "hsv_arr = np.asarray(hsv_arr)\n",
    "h_arr = hsv_arr[:,:,0]\n",
    "plt.imshow(h_arr, cmap=\"gray\")\n",
    "plt.show()"
   ]
  },
  {
   "cell_type": "code",
   "execution_count": null,
   "metadata": {},
   "outputs": [],
   "source": [
    "def read_image_h(path):\n",
    "    img = Image.open(path)\n",
    "    hsv_arr = matplotlib.colors.rgb_to_hsv(img)\n",
    "    hsv_arr = np.asarray(hsv_arr)\n",
    "    h_arr = hsv_arr[:,:,0]\n",
    "#     plt.imshow(h_arr, cmap=\"gray\")\n",
    "#     plt.show()\n",
    "    return 256*h_arr"
   ]
  },
  {
   "cell_type": "code",
   "execution_count": null,
   "metadata": {},
   "outputs": [],
   "source": [
    "initial_probability = {\"Sky.jpg\": 0.30,\"Road.jpg\": 0.20, \"Grass.jpg\":0.50}\n",
    "number_of_pixels = arr.size\n",
    "class_info = []\n",
    "paths= [\"Sky.jpg\", \"Road.jpg\", \"Grass.jpg\"]\n",
    "for path in paths:\n",
    "    tmp_arr = read_image_h(path)\n",
    "    class_mean = np.mean(tmp_arr)\n",
    "    class_var = np.var(tmp_arr)\n",
    "    class_freq = len(tmp_arr)\n",
    "    class_probabilty = class_freq/number_of_pixels\n",
    "    class_info.append([initial_probability[path], class_mean, class_var])\n",
    "\n",
    "print (\"class_info\")\n",
    "print (class_info)"
   ]
  },
  {
   "cell_type": "code",
   "execution_count": null,
   "metadata": {},
   "outputs": [],
   "source": [
    "plt.figure(figsize=(16, 18), dpi=80, facecolor='w', edgecolor='k')"
   ]
  },
  {
   "cell_type": "code",
   "execution_count": null,
   "metadata": {},
   "outputs": [],
   "source": [
    "arr_h = read_image_h(\"test2-mini.jpg\")"
   ]
  },
  {
   "cell_type": "code",
   "execution_count": null,
   "metadata": {},
   "outputs": [],
   "source": [
    "plt.figure(figsize=(16, 18), dpi=80, facecolor='w', edgecolor='k')\n",
    "a_complete_set_for_part_2(arr_h,class_info, max_iter=1e2, betha=1e4)"
   ]
  },
  {
   "cell_type": "code",
   "execution_count": null,
   "metadata": {},
   "outputs": [],
   "source": [
    "a_complete_set_for_part_2(arr_h,class_info, max_iter=1e4, betha=1e4)"
   ]
  },
  {
   "cell_type": "code",
   "execution_count": null,
   "metadata": {},
   "outputs": [],
   "source": [
    "a_complete_set_for_part_2(arr_h,class_info, max_iter=1e6, betha=1e4)"
   ]
  },
  {
   "cell_type": "code",
   "execution_count": null,
   "metadata": {},
   "outputs": [],
   "source": [
    "a_complete_set_for_part_2(arr_h,class_info, max_iter=1e6, betha=1e6)"
   ]
  },
  {
   "cell_type": "markdown",
   "metadata": {},
   "source": [
    "### RGB color space\n",
    "In this part, we used RGB color format in training since there is some information that can be captured by pixels colors.<br> \n",
    "We used RGB values in potential function."
   ]
  },
  {
   "cell_type": "code",
   "execution_count": null,
   "metadata": {},
   "outputs": [],
   "source": [
    "def get_class_info_color(img_path, color_index,\n",
    "                         paths=[\"Sky.jpg\", \"Road.jpg\", \"Grass.jpg\"],\n",
    "                         initial_probability={\"Sky.jpg\": 0.30,\"Road.jpg\": 0.20, \"Grass.jpg\":0.50}):\n",
    "    arr_general = misc.imread(img_path)\n",
    "    arr = arr_general[:,:,color_index]\n",
    "    number_of_pixels = arr.size\n",
    "    class_info = []\n",
    "    paths= [\"Sky.jpg\", \"Road.jpg\", \"Grass.jpg\"]\n",
    "    for path in paths:\n",
    "        tmp_arr = misc.imread(path)\n",
    "        tmp_arr = tmp_arr[:,:,color_index]\n",
    "        class_mean = np.mean(tmp_arr)\n",
    "        class_var = np.var(tmp_arr)\n",
    "        class_freq = len(tmp_arr)\n",
    "        # class_probabilty = class_freq/number_of_pixels\n",
    "        class_info.append([initial_probability[path], class_mean, class_var])\n",
    "\n",
    "    return class_info"
   ]
  },
  {
   "cell_type": "code",
   "execution_count": null,
   "metadata": {},
   "outputs": [],
   "source": [
    "def naive_bayes_predict_3_color (arr, class_infos, fixed_pixels_index=[], correct_arr = []):\n",
    "    predict_array = np.zeros((len(arr), len(arr[0])), dtype=float)\n",
    "    class_color = [0,127,255]\n",
    "    for i in range(0, len(arr)):\n",
    "        for j in range(0, len(arr[0])): \n",
    "            if (len(fixed_pixels_index)>0 and len(correct_arr)>0 and fixed_pixels_index[i][j]==1):\n",
    "                predict_array[i][j]=correct_arr[i][j]\n",
    "                continue\n",
    "            max_probabilty = 0\n",
    "            best_class = -1\n",
    "            \n",
    "            for cls_index in range(0, len(class_color)):\n",
    "                cls_posterior = class_infos[0][cls_index][0]\n",
    "                for c in range(0, 3):#for RGB\n",
    "                    val = arr[i][j][c]\n",
    "                    class_info = class_infos[c]\n",
    "                    mean =  class_info[cls_index][1]\n",
    "                    var = class_info[cls_index][2]\n",
    "                    pos =pdf_of_normal(val, mean, var)\n",
    "                    cls_posterior *= pos\n",
    "                    \n",
    "                \n",
    "                if (cls_posterior > max_probabilty):\n",
    "                    max_probabilty = cls_posterior\n",
    "                    best_class = cls_index     \n",
    "\n",
    "            \n",
    "            predict_array[i][j] = class_color[best_class]\n",
    "            \n",
    "    return predict_array"
   ]
  },
  {
   "cell_type": "code",
   "execution_count": null,
   "metadata": {},
   "outputs": [],
   "source": [
    "def initial_energy_function_colored(initial_w, pixels, betha, cls_infos, neighbors_indices):\n",
    "    w = initial_w\n",
    "    energy = 0.0\n",
    "    rows = len(w)\n",
    "    cols = len(w[0])\n",
    "    for i in range(0, len(w)):\n",
    "        for j in range(0, len(w[0])):\n",
    "            for c in [0,1,2]:\n",
    "                cls_info = cls_infos[c]\n",
    "                mean = cls_info[int (w[i][j])][1]\n",
    "                var =  cls_info[int (w[i][j])][2]\n",
    "                pixel_value = pixels[i][j][c]\n",
    "                energy += np.log(np.sqrt(2*np.pi*var)) \n",
    "                energy += ((pixel_value-mean)**2)/(2*var)\n",
    "            for a,b in neighbors_indices:\n",
    "                a +=i\n",
    "                b +=j\n",
    "                if 0<=a<rows and 0<=b<cols:\n",
    "                    energy += betha * differnce(w[i][j], w[a][b])\n",
    "    return energy"
   ]
  },
  {
   "cell_type": "code",
   "execution_count": null,
   "metadata": {},
   "outputs": [],
   "source": [
    "def delta_enegry_colored(w, index, betha, new_value, neighbors_indices, pixels, cls_infos):\n",
    "    initial_energy = 0 \n",
    "    (i,j) = index\n",
    "    rows = len(w)\n",
    "    cols = len(w[0])\n",
    "    for c in [0,1,2]:\n",
    "        cls_info = cls_infos[c]\n",
    "        mean = cls_info[int(w[i][j])][1]\n",
    "        var =  cls_info[int(w[i][j])][2]\n",
    "        pixel_value = pixels[i][j][c]\n",
    "        initial_energy += np.log(np.sqrt(2*np.pi*var)) \n",
    "        initial_energy += ((pixel_value-mean)**2)/(2*var)\n",
    "        \n",
    "    for a,b in neighbors_indices:\n",
    "        a +=i\n",
    "        b +=j\n",
    "        if 0<=a<rows and 0<=b<cols:\n",
    "            initial_energy += betha * differnce(w[i][j], w[a][b])\n",
    "    \n",
    "    new_energy = 0\n",
    "    for c in [0,1,2]:\n",
    "        cls_info = cls_infos[c]\n",
    "        mean = cls_info[new_value][1]\n",
    "        var =  cls_info[new_value][2]\n",
    "        pixel_value = pixels[i][j][c]\n",
    "        new_energy += np.log(np.sqrt(2*np.pi*var)) \n",
    "        new_energy += ((pixel_value-mean)**2)/(2*var)\n",
    "    # print(\"/////// \\n first enegry\", new_energy)\n",
    "\n",
    "    for a,b in neighbors_indices:\n",
    "        a +=i\n",
    "        b +=j\n",
    "        if 0<=a<rows and 0<=b<cols:\n",
    "            new_energy += betha * differnce(new_value, w[a][b])\n",
    "\n",
    "    # print (\"END energy\", new_energy)\n",
    "\n",
    "    return new_energy - initial_energy"
   ]
  },
  {
   "cell_type": "code",
   "execution_count": null,
   "metadata": {},
   "outputs": [],
   "source": [
    "def simulated_annealing_colored(init_w, class_labels, temprature_function,\n",
    "                        pixels, betha, cls_infos, neighbors_indices, max_iteration=10000,\n",
    "                        initial_temp = 1000, known_index=[], correct_arr = [], temprature_function_constant=None ):\n",
    "    partial_prediction=False\n",
    "    if (len(known_index)>0 and len(correct_arr)>0):\n",
    "        partial_prediction=True\n",
    "    \n",
    "    w = np.array(init_w)\n",
    "    changed_array = np.zeros((len(w), len(w[0])))\n",
    "    iteration =0\n",
    "    x = len(w)\n",
    "    y = len(w[0])\n",
    "    current_energy = initial_energy_function_colored(w, pixels, betha, cls_infos, neighbors_indices)\n",
    "    current_tmp = initial_temp\n",
    "    while (iteration<max_iteration):\n",
    "        if (partial_prediction):\n",
    "            is_found=False\n",
    "            while (is_found==False):\n",
    "                i = random.randint(0, x-1)\n",
    "                j = random.randint(0, y-1)\n",
    "                if (known_index[i][j]==0):\n",
    "                    is_found=True\n",
    "        else:\n",
    "            i = random.randint(0, x-1)\n",
    "            j = random.randint(0, y-1)\n",
    "\n",
    "        l = list(class_labels)\n",
    "        l.remove(w[i][j])\n",
    "        r = random.randint(0, len(l)-1)\n",
    "        new_value = l[r]\n",
    "        delta = delta_enegry_colored(w, (i,j), betha, new_value, neighbors_indices, pixels, cls_infos)\n",
    "\n",
    "        r = random.uniform(0, 1)\n",
    "\n",
    "        if (delta<=0):\n",
    "            w[i][j]=new_value\n",
    "            current_energy+=delta\n",
    "            changed_array[i][j]+=1\n",
    "            # print (\"CHANGED better\")\n",
    "        else:\n",
    "            try:\n",
    "                if (-delta / current_tmp < -600):\n",
    "                    k=0\n",
    "                else:\n",
    "                    k = np.exp(-delta / current_tmp)\n",
    "            except:\n",
    "                k=0\n",
    "\n",
    "            if r < k:\n",
    "                # print(\"CHANGED worse\")\n",
    "                w[i][j] = new_value\n",
    "                current_energy += delta\n",
    "                changed_array[i][j] += 1\n",
    "        if (temprature_function_constant!=None):\n",
    "            current_tmp = temprature_function(iteration, current_tmp, initial_temp, constant =temprature_function_constant)\n",
    "        else:\n",
    "            current_tmp = temprature_function(iteration, current_tmp, initial_temp)\n",
    "        iteration+=1\n",
    "    return w, changed_array"
   ]
  },
  {
   "cell_type": "code",
   "execution_count": null,
   "metadata": {},
   "outputs": [],
   "source": [
    "def a_complete_set_for_part_2_3_color (max_iter=1000000, var = 10000,\n",
    "                               betha = 100,\n",
    "                               neighbor_indices = [[0,1],[0,-1],[1,0],[-1,0]],\n",
    "                               class_labels = [0,1,2],\n",
    "                               class_color = [0,127,255],\n",
    "                               schedule= exponential_schedule,\n",
    "                               temprature_function_constant=None,\n",
    "                               image_path = \"test2-mini.jpg\"):\n",
    "\n",
    "    fig, (ax1, ax2, ax3, ax4) = plt.subplots(1,4)\n",
    "#     fig.suptitle('Comparision', fontsize=20)\n",
    "\n",
    "    arr = misc.imread(image_path)\n",
    "    ax1.set_title(\"initial image\")\n",
    "\n",
    "    ax1.imshow(arr)\n",
    "\n",
    "\n",
    "\n",
    "\n",
    "#     cls_info = naive_bayes_learning(arr, noisy_arr, labels)\n",
    "    cls_infos = []\n",
    "    for c in [0,1,2]:\n",
    "        tmp_info =get_class_info_color(image_path,c)\n",
    "        cls_infos.append(tmp_info)\n",
    "\n",
    "\n",
    "    initial_arr = naive_bayes_predict_3_color(arr, cls_infos)\n",
    "    ax2.set_title('Naive Bayes image')\n",
    "    ax2.imshow(initial_arr, cmap='gray')\n",
    "\n",
    "    \n",
    "    convert_to_class_labels(initial_arr)\n",
    "\n",
    "    w, test_array = simulated_annealing_colored(initial_arr, class_labels, schedule,\n",
    "                                        arr, betha, cls_infos, neighbor_indices, max_iteration=max_iter)\n",
    "\n",
    "\n",
    "    for i in range (0, len(w)):\n",
    "        for j in range(0, len(w[0])):\n",
    "            w[i][j] = class_color[int (w[i][j])]\n",
    "\n",
    "    ax3.set_title('CRF image')\n",
    "    ax3.imshow(w, cmap='gray')\n",
    "    plt.rcParams[\"figure.figsize\"] = (20,3)\n",
    "    ax4.set_title('differ image')\n",
    "\n",
    "    ax4.imshow(test_array, cmap='gray')"
   ]
  },
  {
   "cell_type": "code",
   "execution_count": null,
   "metadata": {},
   "outputs": [],
   "source": [
    "a_complete_set_for_part_2_3_color(max_iter=1e2, betha=1e4)"
   ]
  },
  {
   "cell_type": "code",
   "execution_count": null,
   "metadata": {},
   "outputs": [],
   "source": [
    "a_complete_set_for_part_2_3_color(max_iter=1e4, betha=1e4)"
   ]
  },
  {
   "cell_type": "code",
   "execution_count": null,
   "metadata": {},
   "outputs": [],
   "source": [
    "a_complete_set_for_part_2_3_color(max_iter=1e6, betha=1e4)"
   ]
  },
  {
   "cell_type": "code",
   "execution_count": null,
   "metadata": {},
   "outputs": [],
   "source": [
    "a_complete_set_for_part_2_3_color(max_iter=1e6, betha=1e6)"
   ]
  },
  {
   "cell_type": "code",
   "execution_count": null,
   "metadata": {},
   "outputs": [],
   "source": [
    "a_complete_set_for_part_2_3_color(max_iter=1e6, betha=1e6,\n",
    "                                 schedule=linear_multiplicative_cooling_schedule, temprature_function_constant=0.5)"
   ]
  },
  {
   "cell_type": "code",
   "execution_count": null,
   "metadata": {},
   "outputs": [],
   "source": [
    "np.seterr(all='raise');\n",
    "a_complete_set_for_part_2_3_color(max_iter=1e6, betha=1e6,\n",
    "                                 schedule=linear_multiplicative_cooling_schedule, temprature_function_constant=0.5)"
   ]
  },
  {
   "cell_type": "markdown",
   "metadata": {},
   "source": [
    "## Conclusion\n",
    "Grayscale image format didn't have sufficient information for CRF models in this task.<br>\n",
    "The value H in HSV image format had better information for segmentation using CRF models. And the result was better. <br>\n",
    "The RGB format also had good information for segmenting the image. Because these three segments have different colors. So if a CRF model considers colors of the image for classification, then the result is going to be better compared to Grayscale images."
   ]
  }
 ],
 "metadata": {
  "kernelspec": {
   "display_name": ".venv",
   "language": "python",
   "name": "python3"
  },
  "language_info": {
   "codemirror_mode": {
    "name": "ipython",
    "version": 3
   },
   "file_extension": ".py",
   "mimetype": "text/x-python",
   "name": "python",
   "nbconvert_exporter": "python",
   "pygments_lexer": "ipython3",
   "version": "3.13.5"
  }
 },
 "nbformat": 4,
 "nbformat_minor": 2
}
